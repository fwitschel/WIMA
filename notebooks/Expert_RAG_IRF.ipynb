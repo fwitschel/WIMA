{
  "nbformat": 4,
  "nbformat_minor": 0,
  "metadata": {
    "colab": {
      "provenance": [],
      "include_colab_link": true
    },
    "kernelspec": {
      "display_name": "Python 3",
      "name": "python3"
    },
    "language_info": {
      "name": "python"
    }
  },
  "cells": [
    {
      "cell_type": "markdown",
      "metadata": {
        "id": "view-in-github",
        "colab_type": "text"
      },
      "source": [
        "<a href=\"https://colab.research.google.com/github/fwitschel/WIMA/blob/main/notebooks/Expert_RAG_IRF.ipynb\" target=\"_parent\"><img src=\"https://colab.research.google.com/assets/colab-badge.svg\" alt=\"Open In Colab\"/></a>"
      ]
    },
    {
      "cell_type": "code",
      "source": [
        "import os\n",
        "\n",
        "# Execute this code only if in colab\n",
        "if 'COLAB_GPU' in os.environ:\n",
        "  print(\"Executing in Colab!\")\n",
        "  # Cloning GitHub repository\n",
        "  !git clone https://github.com/fwitschel/WIMA.git\n",
        "  %cd WIMA\n"
      ],
      "metadata": {
        "id": "qRHf7ZEBbs5-",
        "collapsed": true,
        "colab": {
          "base_uri": "https://localhost:8080/"
        },
        "outputId": "68a7d816-c9aa-4851-8fe8-3176992c3f35"
      },
      "execution_count": 1,
      "outputs": [
        {
          "output_type": "stream",
          "name": "stdout",
          "text": [
            "Executing in Colab!\n",
            "Cloning into 'WIMA'...\n",
            "remote: Enumerating objects: 43, done.\u001b[K\n",
            "remote: Counting objects: 100% (43/43), done.\u001b[K\n",
            "remote: Compressing objects: 100% (31/31), done.\u001b[K\n",
            "remote: Total 43 (delta 4), reused 0 (delta 0), pack-reused 0 (from 0)\u001b[K\n",
            "Receiving objects: 100% (43/43), 1.64 MiB | 3.69 MiB/s, done.\n",
            "Resolving deltas: 100% (4/4), done.\n",
            "/content/WIMA\n"
          ]
        }
      ]
    },
    {
      "cell_type": "markdown",
      "metadata": {
        "id": "oafU1Ii4TXtp"
      },
      "source": [
        "\n",
        "First, we will install required dependencies."
      ]
    },
    {
      "cell_type": "code",
      "execution_count": 2,
      "metadata": {
        "colab": {
          "base_uri": "https://localhost:8080/"
        },
        "collapsed": true,
        "id": "Qh7uQdWfTadO",
        "outputId": "6a85af35-c1e9-4afe-8c15-be63a87cdfe8"
      },
      "outputs": [
        {
          "output_type": "stream",
          "name": "stdout",
          "text": [
            "Requirement already satisfied: langchain in /usr/local/lib/python3.12/dist-packages (0.3.27)\n",
            "Collecting langchain-community\n",
            "  Downloading langchain_community-0.3.30-py3-none-any.whl.metadata (3.0 kB)\n",
            "Collecting pypdf\n",
            "  Downloading pypdf-6.1.1-py3-none-any.whl.metadata (7.1 kB)\n",
            "Requirement already satisfied: sentence_transformers in /usr/local/lib/python3.12/dist-packages (5.1.0)\n",
            "Collecting faiss-cpu\n",
            "  Downloading faiss_cpu-1.12.0-cp312-cp312-manylinux_2_27_x86_64.manylinux_2_28_x86_64.whl.metadata (5.1 kB)\n",
            "Collecting langchain-anthropic\n",
            "  Downloading langchain_anthropic-0.3.21-py3-none-any.whl.metadata (1.9 kB)\n",
            "Collecting groq\n",
            "  Downloading groq-0.32.0-py3-none-any.whl.metadata (16 kB)\n",
            "Requirement already satisfied: langchain-core<1.0.0,>=0.3.72 in /usr/local/lib/python3.12/dist-packages (from langchain) (0.3.76)\n",
            "Requirement already satisfied: langchain-text-splitters<1.0.0,>=0.3.9 in /usr/local/lib/python3.12/dist-packages (from langchain) (0.3.11)\n",
            "Requirement already satisfied: langsmith>=0.1.17 in /usr/local/lib/python3.12/dist-packages (from langchain) (0.4.28)\n",
            "Requirement already satisfied: pydantic<3.0.0,>=2.7.4 in /usr/local/lib/python3.12/dist-packages (from langchain) (2.11.9)\n",
            "Requirement already satisfied: SQLAlchemy<3,>=1.4 in /usr/local/lib/python3.12/dist-packages (from langchain) (2.0.43)\n",
            "Requirement already satisfied: requests<3,>=2 in /usr/local/lib/python3.12/dist-packages (from langchain) (2.32.4)\n",
            "Requirement already satisfied: PyYAML>=5.3 in /usr/local/lib/python3.12/dist-packages (from langchain) (6.0.2)\n",
            "Collecting requests<3,>=2 (from langchain)\n",
            "  Downloading requests-2.32.5-py3-none-any.whl.metadata (4.9 kB)\n",
            "Requirement already satisfied: aiohttp<4.0.0,>=3.8.3 in /usr/local/lib/python3.12/dist-packages (from langchain-community) (3.12.15)\n",
            "Requirement already satisfied: tenacity!=8.4.0,<10.0.0,>=8.1.0 in /usr/local/lib/python3.12/dist-packages (from langchain-community) (8.5.0)\n",
            "Collecting dataclasses-json<0.7.0,>=0.6.7 (from langchain-community)\n",
            "  Downloading dataclasses_json-0.6.7-py3-none-any.whl.metadata (25 kB)\n",
            "Requirement already satisfied: pydantic-settings<3.0.0,>=2.10.1 in /usr/local/lib/python3.12/dist-packages (from langchain-community) (2.10.1)\n",
            "Requirement already satisfied: httpx-sse<1.0.0,>=0.4.0 in /usr/local/lib/python3.12/dist-packages (from langchain-community) (0.4.1)\n",
            "Requirement already satisfied: numpy>=1.26.2 in /usr/local/lib/python3.12/dist-packages (from langchain-community) (2.0.2)\n",
            "Requirement already satisfied: transformers<5.0.0,>=4.41.0 in /usr/local/lib/python3.12/dist-packages (from sentence_transformers) (4.56.1)\n",
            "Requirement already satisfied: tqdm in /usr/local/lib/python3.12/dist-packages (from sentence_transformers) (4.67.1)\n",
            "Requirement already satisfied: torch>=1.11.0 in /usr/local/lib/python3.12/dist-packages (from sentence_transformers) (2.8.0+cu126)\n",
            "Requirement already satisfied: scikit-learn in /usr/local/lib/python3.12/dist-packages (from sentence_transformers) (1.6.1)\n",
            "Requirement already satisfied: scipy in /usr/local/lib/python3.12/dist-packages (from sentence_transformers) (1.16.2)\n",
            "Requirement already satisfied: huggingface-hub>=0.20.0 in /usr/local/lib/python3.12/dist-packages (from sentence_transformers) (0.35.0)\n",
            "Requirement already satisfied: Pillow in /usr/local/lib/python3.12/dist-packages (from sentence_transformers) (11.3.0)\n",
            "Requirement already satisfied: typing_extensions>=4.5.0 in /usr/local/lib/python3.12/dist-packages (from sentence_transformers) (4.15.0)\n",
            "Requirement already satisfied: packaging in /usr/local/lib/python3.12/dist-packages (from faiss-cpu) (25.0)\n",
            "Collecting anthropic<1.0.0,>=0.69.0 (from langchain-anthropic)\n",
            "  Downloading anthropic-0.69.0-py3-none-any.whl.metadata (28 kB)\n",
            "Requirement already satisfied: anyio<5,>=3.5.0 in /usr/local/lib/python3.12/dist-packages (from groq) (4.10.0)\n",
            "Requirement already satisfied: distro<2,>=1.7.0 in /usr/local/lib/python3.12/dist-packages (from groq) (1.9.0)\n",
            "Requirement already satisfied: httpx<1,>=0.23.0 in /usr/local/lib/python3.12/dist-packages (from groq) (0.28.1)\n",
            "Requirement already satisfied: sniffio in /usr/local/lib/python3.12/dist-packages (from groq) (1.3.1)\n",
            "Requirement already satisfied: aiohappyeyeballs>=2.5.0 in /usr/local/lib/python3.12/dist-packages (from aiohttp<4.0.0,>=3.8.3->langchain-community) (2.6.1)\n",
            "Requirement already satisfied: aiosignal>=1.4.0 in /usr/local/lib/python3.12/dist-packages (from aiohttp<4.0.0,>=3.8.3->langchain-community) (1.4.0)\n",
            "Requirement already satisfied: attrs>=17.3.0 in /usr/local/lib/python3.12/dist-packages (from aiohttp<4.0.0,>=3.8.3->langchain-community) (25.3.0)\n",
            "Requirement already satisfied: frozenlist>=1.1.1 in /usr/local/lib/python3.12/dist-packages (from aiohttp<4.0.0,>=3.8.3->langchain-community) (1.7.0)\n",
            "Requirement already satisfied: multidict<7.0,>=4.5 in /usr/local/lib/python3.12/dist-packages (from aiohttp<4.0.0,>=3.8.3->langchain-community) (6.6.4)\n",
            "Requirement already satisfied: propcache>=0.2.0 in /usr/local/lib/python3.12/dist-packages (from aiohttp<4.0.0,>=3.8.3->langchain-community) (0.3.2)\n",
            "Requirement already satisfied: yarl<2.0,>=1.17.0 in /usr/local/lib/python3.12/dist-packages (from aiohttp<4.0.0,>=3.8.3->langchain-community) (1.20.1)\n",
            "Requirement already satisfied: docstring-parser<1,>=0.15 in /usr/local/lib/python3.12/dist-packages (from anthropic<1.0.0,>=0.69.0->langchain-anthropic) (0.17.0)\n",
            "Requirement already satisfied: jiter<1,>=0.4.0 in /usr/local/lib/python3.12/dist-packages (from anthropic<1.0.0,>=0.69.0->langchain-anthropic) (0.11.0)\n",
            "Requirement already satisfied: idna>=2.8 in /usr/local/lib/python3.12/dist-packages (from anyio<5,>=3.5.0->groq) (3.10)\n",
            "Collecting marshmallow<4.0.0,>=3.18.0 (from dataclasses-json<0.7.0,>=0.6.7->langchain-community)\n",
            "  Downloading marshmallow-3.26.1-py3-none-any.whl.metadata (7.3 kB)\n",
            "Collecting typing-inspect<1,>=0.4.0 (from dataclasses-json<0.7.0,>=0.6.7->langchain-community)\n",
            "  Downloading typing_inspect-0.9.0-py3-none-any.whl.metadata (1.5 kB)\n",
            "Requirement already satisfied: certifi in /usr/local/lib/python3.12/dist-packages (from httpx<1,>=0.23.0->groq) (2025.8.3)\n",
            "Requirement already satisfied: httpcore==1.* in /usr/local/lib/python3.12/dist-packages (from httpx<1,>=0.23.0->groq) (1.0.9)\n",
            "Requirement already satisfied: h11>=0.16 in /usr/local/lib/python3.12/dist-packages (from httpcore==1.*->httpx<1,>=0.23.0->groq) (0.16.0)\n",
            "Requirement already satisfied: filelock in /usr/local/lib/python3.12/dist-packages (from huggingface-hub>=0.20.0->sentence_transformers) (3.19.1)\n",
            "Requirement already satisfied: fsspec>=2023.5.0 in /usr/local/lib/python3.12/dist-packages (from huggingface-hub>=0.20.0->sentence_transformers) (2025.3.0)\n",
            "Requirement already satisfied: hf-xet<2.0.0,>=1.1.3 in /usr/local/lib/python3.12/dist-packages (from huggingface-hub>=0.20.0->sentence_transformers) (1.1.10)\n",
            "Requirement already satisfied: jsonpatch<2.0,>=1.33 in /usr/local/lib/python3.12/dist-packages (from langchain-core<1.0.0,>=0.3.72->langchain) (1.33)\n",
            "Requirement already satisfied: orjson>=3.9.14 in /usr/local/lib/python3.12/dist-packages (from langsmith>=0.1.17->langchain) (3.11.3)\n",
            "Requirement already satisfied: requests-toolbelt>=1.0.0 in /usr/local/lib/python3.12/dist-packages (from langsmith>=0.1.17->langchain) (1.0.0)\n",
            "Requirement already satisfied: zstandard>=0.23.0 in /usr/local/lib/python3.12/dist-packages (from langsmith>=0.1.17->langchain) (0.25.0)\n",
            "Requirement already satisfied: annotated-types>=0.6.0 in /usr/local/lib/python3.12/dist-packages (from pydantic<3.0.0,>=2.7.4->langchain) (0.7.0)\n",
            "Requirement already satisfied: pydantic-core==2.33.2 in /usr/local/lib/python3.12/dist-packages (from pydantic<3.0.0,>=2.7.4->langchain) (2.33.2)\n",
            "Requirement already satisfied: typing-inspection>=0.4.0 in /usr/local/lib/python3.12/dist-packages (from pydantic<3.0.0,>=2.7.4->langchain) (0.4.1)\n",
            "Requirement already satisfied: python-dotenv>=0.21.0 in /usr/local/lib/python3.12/dist-packages (from pydantic-settings<3.0.0,>=2.10.1->langchain-community) (1.1.1)\n",
            "Requirement already satisfied: charset_normalizer<4,>=2 in /usr/local/lib/python3.12/dist-packages (from requests<3,>=2->langchain) (3.4.3)\n",
            "Requirement already satisfied: urllib3<3,>=1.21.1 in /usr/local/lib/python3.12/dist-packages (from requests<3,>=2->langchain) (2.5.0)\n",
            "Requirement already satisfied: greenlet>=1 in /usr/local/lib/python3.12/dist-packages (from SQLAlchemy<3,>=1.4->langchain) (3.2.4)\n",
            "Requirement already satisfied: setuptools in /usr/local/lib/python3.12/dist-packages (from torch>=1.11.0->sentence_transformers) (75.2.0)\n",
            "Requirement already satisfied: sympy>=1.13.3 in /usr/local/lib/python3.12/dist-packages (from torch>=1.11.0->sentence_transformers) (1.13.3)\n",
            "Requirement already satisfied: networkx in /usr/local/lib/python3.12/dist-packages (from torch>=1.11.0->sentence_transformers) (3.5)\n",
            "Requirement already satisfied: jinja2 in /usr/local/lib/python3.12/dist-packages (from torch>=1.11.0->sentence_transformers) (3.1.6)\n",
            "Requirement already satisfied: nvidia-cuda-nvrtc-cu12==12.6.77 in /usr/local/lib/python3.12/dist-packages (from torch>=1.11.0->sentence_transformers) (12.6.77)\n",
            "Requirement already satisfied: nvidia-cuda-runtime-cu12==12.6.77 in /usr/local/lib/python3.12/dist-packages (from torch>=1.11.0->sentence_transformers) (12.6.77)\n",
            "Requirement already satisfied: nvidia-cuda-cupti-cu12==12.6.80 in /usr/local/lib/python3.12/dist-packages (from torch>=1.11.0->sentence_transformers) (12.6.80)\n",
            "Requirement already satisfied: nvidia-cudnn-cu12==9.10.2.21 in /usr/local/lib/python3.12/dist-packages (from torch>=1.11.0->sentence_transformers) (9.10.2.21)\n",
            "Requirement already satisfied: nvidia-cublas-cu12==12.6.4.1 in /usr/local/lib/python3.12/dist-packages (from torch>=1.11.0->sentence_transformers) (12.6.4.1)\n",
            "Requirement already satisfied: nvidia-cufft-cu12==11.3.0.4 in /usr/local/lib/python3.12/dist-packages (from torch>=1.11.0->sentence_transformers) (11.3.0.4)\n",
            "Requirement already satisfied: nvidia-curand-cu12==10.3.7.77 in /usr/local/lib/python3.12/dist-packages (from torch>=1.11.0->sentence_transformers) (10.3.7.77)\n",
            "Requirement already satisfied: nvidia-cusolver-cu12==11.7.1.2 in /usr/local/lib/python3.12/dist-packages (from torch>=1.11.0->sentence_transformers) (11.7.1.2)\n",
            "Requirement already satisfied: nvidia-cusparse-cu12==12.5.4.2 in /usr/local/lib/python3.12/dist-packages (from torch>=1.11.0->sentence_transformers) (12.5.4.2)\n",
            "Requirement already satisfied: nvidia-cusparselt-cu12==0.7.1 in /usr/local/lib/python3.12/dist-packages (from torch>=1.11.0->sentence_transformers) (0.7.1)\n",
            "Requirement already satisfied: nvidia-nccl-cu12==2.27.3 in /usr/local/lib/python3.12/dist-packages (from torch>=1.11.0->sentence_transformers) (2.27.3)\n",
            "Requirement already satisfied: nvidia-nvtx-cu12==12.6.77 in /usr/local/lib/python3.12/dist-packages (from torch>=1.11.0->sentence_transformers) (12.6.77)\n",
            "Requirement already satisfied: nvidia-nvjitlink-cu12==12.6.85 in /usr/local/lib/python3.12/dist-packages (from torch>=1.11.0->sentence_transformers) (12.6.85)\n",
            "Requirement already satisfied: nvidia-cufile-cu12==1.11.1.6 in /usr/local/lib/python3.12/dist-packages (from torch>=1.11.0->sentence_transformers) (1.11.1.6)\n",
            "Requirement already satisfied: triton==3.4.0 in /usr/local/lib/python3.12/dist-packages (from torch>=1.11.0->sentence_transformers) (3.4.0)\n",
            "Requirement already satisfied: regex!=2019.12.17 in /usr/local/lib/python3.12/dist-packages (from transformers<5.0.0,>=4.41.0->sentence_transformers) (2024.11.6)\n",
            "Requirement already satisfied: tokenizers<=0.23.0,>=0.22.0 in /usr/local/lib/python3.12/dist-packages (from transformers<5.0.0,>=4.41.0->sentence_transformers) (0.22.0)\n",
            "Requirement already satisfied: safetensors>=0.4.3 in /usr/local/lib/python3.12/dist-packages (from transformers<5.0.0,>=4.41.0->sentence_transformers) (0.6.2)\n",
            "Requirement already satisfied: joblib>=1.2.0 in /usr/local/lib/python3.12/dist-packages (from scikit-learn->sentence_transformers) (1.5.2)\n",
            "Requirement already satisfied: threadpoolctl>=3.1.0 in /usr/local/lib/python3.12/dist-packages (from scikit-learn->sentence_transformers) (3.6.0)\n",
            "Requirement already satisfied: jsonpointer>=1.9 in /usr/local/lib/python3.12/dist-packages (from jsonpatch<2.0,>=1.33->langchain-core<1.0.0,>=0.3.72->langchain) (3.0.0)\n",
            "Requirement already satisfied: mpmath<1.4,>=1.1.0 in /usr/local/lib/python3.12/dist-packages (from sympy>=1.13.3->torch>=1.11.0->sentence_transformers) (1.3.0)\n",
            "Collecting mypy-extensions>=0.3.0 (from typing-inspect<1,>=0.4.0->dataclasses-json<0.7.0,>=0.6.7->langchain-community)\n",
            "  Downloading mypy_extensions-1.1.0-py3-none-any.whl.metadata (1.1 kB)\n",
            "Requirement already satisfied: MarkupSafe>=2.0 in /usr/local/lib/python3.12/dist-packages (from jinja2->torch>=1.11.0->sentence_transformers) (3.0.2)\n",
            "Downloading langchain_community-0.3.30-py3-none-any.whl (2.5 MB)\n",
            "\u001b[2K   \u001b[90m━━━━━━━━━━━━━━━━━━━━━━━━━━━━━━━━━━━━━━━━\u001b[0m \u001b[32m2.5/2.5 MB\u001b[0m \u001b[31m43.0 MB/s\u001b[0m eta \u001b[36m0:00:00\u001b[0m\n",
            "\u001b[?25hDownloading pypdf-6.1.1-py3-none-any.whl (323 kB)\n",
            "\u001b[2K   \u001b[90m━━━━━━━━━━━━━━━━━━━━━━━━━━━━━━━━━━━━━━━━\u001b[0m \u001b[32m323.5/323.5 kB\u001b[0m \u001b[31m26.8 MB/s\u001b[0m eta \u001b[36m0:00:00\u001b[0m\n",
            "\u001b[?25hDownloading faiss_cpu-1.12.0-cp312-cp312-manylinux_2_27_x86_64.manylinux_2_28_x86_64.whl (31.4 MB)\n",
            "\u001b[2K   \u001b[90m━━━━━━━━━━━━━━━━━━━━━━━━━━━━━━━━━━━━━━━━\u001b[0m \u001b[32m31.4/31.4 MB\u001b[0m \u001b[31m63.1 MB/s\u001b[0m eta \u001b[36m0:00:00\u001b[0m\n",
            "\u001b[?25hDownloading langchain_anthropic-0.3.21-py3-none-any.whl (32 kB)\n",
            "Downloading groq-0.32.0-py3-none-any.whl (135 kB)\n",
            "\u001b[2K   \u001b[90m━━━━━━━━━━━━━━━━━━━━━━━━━━━━━━━━━━━━━━━━\u001b[0m \u001b[32m135.4/135.4 kB\u001b[0m \u001b[31m12.5 MB/s\u001b[0m eta \u001b[36m0:00:00\u001b[0m\n",
            "\u001b[?25hDownloading anthropic-0.69.0-py3-none-any.whl (337 kB)\n",
            "\u001b[2K   \u001b[90m━━━━━━━━━━━━━━━━━━━━━━━━━━━━━━━━━━━━━━━━\u001b[0m \u001b[32m337.3/337.3 kB\u001b[0m \u001b[31m24.7 MB/s\u001b[0m eta \u001b[36m0:00:00\u001b[0m\n",
            "\u001b[?25hDownloading dataclasses_json-0.6.7-py3-none-any.whl (28 kB)\n",
            "Downloading requests-2.32.5-py3-none-any.whl (64 kB)\n",
            "\u001b[2K   \u001b[90m━━━━━━━━━━━━━━━━━━━━━━━━━━━━━━━━━━━━━━━━\u001b[0m \u001b[32m64.7/64.7 kB\u001b[0m \u001b[31m5.2 MB/s\u001b[0m eta \u001b[36m0:00:00\u001b[0m\n",
            "\u001b[?25hDownloading marshmallow-3.26.1-py3-none-any.whl (50 kB)\n",
            "\u001b[2K   \u001b[90m━━━━━━━━━━━━━━━━━━━━━━━━━━━━━━━━━━━━━━━━\u001b[0m \u001b[32m50.9/50.9 kB\u001b[0m \u001b[31m4.1 MB/s\u001b[0m eta \u001b[36m0:00:00\u001b[0m\n",
            "\u001b[?25hDownloading typing_inspect-0.9.0-py3-none-any.whl (8.8 kB)\n",
            "Downloading mypy_extensions-1.1.0-py3-none-any.whl (5.0 kB)\n",
            "Installing collected packages: requests, pypdf, mypy-extensions, marshmallow, faiss-cpu, typing-inspect, groq, dataclasses-json, anthropic, langchain-anthropic, langchain-community\n",
            "  Attempting uninstall: requests\n",
            "    Found existing installation: requests 2.32.4\n",
            "    Uninstalling requests-2.32.4:\n",
            "      Successfully uninstalled requests-2.32.4\n",
            "\u001b[31mERROR: pip's dependency resolver does not currently take into account all the packages that are installed. This behaviour is the source of the following dependency conflicts.\n",
            "google-colab 1.0.0 requires requests==2.32.4, but you have requests 2.32.5 which is incompatible.\u001b[0m\u001b[31m\n",
            "\u001b[0mSuccessfully installed anthropic-0.69.0 dataclasses-json-0.6.7 faiss-cpu-1.12.0 groq-0.32.0 langchain-anthropic-0.3.21 langchain-community-0.3.30 marshmallow-3.26.1 mypy-extensions-1.1.0 pypdf-6.1.1 requests-2.32.5 typing-inspect-0.9.0\n"
          ]
        }
      ],
      "source": [
        "!pip install langchain langchain-community pypdf sentence_transformers faiss-cpu langchain-anthropic groq"
      ]
    },
    {
      "cell_type": "code",
      "execution_count": 3,
      "metadata": {
        "colab": {
          "base_uri": "https://localhost:8080/",
          "height": 206
        },
        "collapsed": true,
        "id": "X9vaOgI7XvMm",
        "outputId": "c7d8e9b5-acc0-492b-db59-e1d32f3f4aa3"
      },
      "outputs": [
        {
          "output_type": "execute_result",
          "data": {
            "text/plain": [
              "                 person                                           dc.title  \\\n",
              "0  Grunder, Hans-Ulrich  Der Bildungsforschung die Daten, der Allgemein...   \n",
              "1     Kirnbauer, Martin                                                NaN   \n",
              "2        Hell, Benedikt  Entwicklung eines Interviewleitfadens für die ...   \n",
              "3        Herrmann, Anne  Entwicklung eines Interviewleitfadens für die ...   \n",
              "4        Labudde, Peter  Didaktische Leitfragen für die Lehrerinnen- un...   \n",
              "\n",
              "                        dc.subtitle  \n",
              "0                               NaN  \n",
              "1                               NaN  \n",
              "2                               NaN  \n",
              "3                               NaN  \n",
              "4  Beiträge zur Lehrerbildung (BZL)  "
            ],
            "text/html": [
              "\n",
              "  <div id=\"df-e16828e3-6535-415e-9f76-811bc7ce519b\" class=\"colab-df-container\">\n",
              "    <div>\n",
              "<style scoped>\n",
              "    .dataframe tbody tr th:only-of-type {\n",
              "        vertical-align: middle;\n",
              "    }\n",
              "\n",
              "    .dataframe tbody tr th {\n",
              "        vertical-align: top;\n",
              "    }\n",
              "\n",
              "    .dataframe thead th {\n",
              "        text-align: right;\n",
              "    }\n",
              "</style>\n",
              "<table border=\"1\" class=\"dataframe\">\n",
              "  <thead>\n",
              "    <tr style=\"text-align: right;\">\n",
              "      <th></th>\n",
              "      <th>person</th>\n",
              "      <th>dc.title</th>\n",
              "      <th>dc.subtitle</th>\n",
              "    </tr>\n",
              "  </thead>\n",
              "  <tbody>\n",
              "    <tr>\n",
              "      <th>0</th>\n",
              "      <td>Grunder, Hans-Ulrich</td>\n",
              "      <td>Der Bildungsforschung die Daten, der Allgemein...</td>\n",
              "      <td>NaN</td>\n",
              "    </tr>\n",
              "    <tr>\n",
              "      <th>1</th>\n",
              "      <td>Kirnbauer, Martin</td>\n",
              "      <td>NaN</td>\n",
              "      <td>NaN</td>\n",
              "    </tr>\n",
              "    <tr>\n",
              "      <th>2</th>\n",
              "      <td>Hell, Benedikt</td>\n",
              "      <td>Entwicklung eines Interviewleitfadens für die ...</td>\n",
              "      <td>NaN</td>\n",
              "    </tr>\n",
              "    <tr>\n",
              "      <th>3</th>\n",
              "      <td>Herrmann, Anne</td>\n",
              "      <td>Entwicklung eines Interviewleitfadens für die ...</td>\n",
              "      <td>NaN</td>\n",
              "    </tr>\n",
              "    <tr>\n",
              "      <th>4</th>\n",
              "      <td>Labudde, Peter</td>\n",
              "      <td>Didaktische Leitfragen für die Lehrerinnen- un...</td>\n",
              "      <td>Beiträge zur Lehrerbildung (BZL)</td>\n",
              "    </tr>\n",
              "  </tbody>\n",
              "</table>\n",
              "</div>\n",
              "    <div class=\"colab-df-buttons\">\n",
              "\n",
              "  <div class=\"colab-df-container\">\n",
              "    <button class=\"colab-df-convert\" onclick=\"convertToInteractive('df-e16828e3-6535-415e-9f76-811bc7ce519b')\"\n",
              "            title=\"Convert this dataframe to an interactive table.\"\n",
              "            style=\"display:none;\">\n",
              "\n",
              "  <svg xmlns=\"http://www.w3.org/2000/svg\" height=\"24px\" viewBox=\"0 -960 960 960\">\n",
              "    <path d=\"M120-120v-720h720v720H120Zm60-500h600v-160H180v160Zm220 220h160v-160H400v160Zm0 220h160v-160H400v160ZM180-400h160v-160H180v160Zm440 0h160v-160H620v160ZM180-180h160v-160H180v160Zm440 0h160v-160H620v160Z\"/>\n",
              "  </svg>\n",
              "    </button>\n",
              "\n",
              "  <style>\n",
              "    .colab-df-container {\n",
              "      display:flex;\n",
              "      gap: 12px;\n",
              "    }\n",
              "\n",
              "    .colab-df-convert {\n",
              "      background-color: #E8F0FE;\n",
              "      border: none;\n",
              "      border-radius: 50%;\n",
              "      cursor: pointer;\n",
              "      display: none;\n",
              "      fill: #1967D2;\n",
              "      height: 32px;\n",
              "      padding: 0 0 0 0;\n",
              "      width: 32px;\n",
              "    }\n",
              "\n",
              "    .colab-df-convert:hover {\n",
              "      background-color: #E2EBFA;\n",
              "      box-shadow: 0px 1px 2px rgba(60, 64, 67, 0.3), 0px 1px 3px 1px rgba(60, 64, 67, 0.15);\n",
              "      fill: #174EA6;\n",
              "    }\n",
              "\n",
              "    .colab-df-buttons div {\n",
              "      margin-bottom: 4px;\n",
              "    }\n",
              "\n",
              "    [theme=dark] .colab-df-convert {\n",
              "      background-color: #3B4455;\n",
              "      fill: #D2E3FC;\n",
              "    }\n",
              "\n",
              "    [theme=dark] .colab-df-convert:hover {\n",
              "      background-color: #434B5C;\n",
              "      box-shadow: 0px 1px 3px 1px rgba(0, 0, 0, 0.15);\n",
              "      filter: drop-shadow(0px 1px 2px rgba(0, 0, 0, 0.3));\n",
              "      fill: #FFFFFF;\n",
              "    }\n",
              "  </style>\n",
              "\n",
              "    <script>\n",
              "      const buttonEl =\n",
              "        document.querySelector('#df-e16828e3-6535-415e-9f76-811bc7ce519b button.colab-df-convert');\n",
              "      buttonEl.style.display =\n",
              "        google.colab.kernel.accessAllowed ? 'block' : 'none';\n",
              "\n",
              "      async function convertToInteractive(key) {\n",
              "        const element = document.querySelector('#df-e16828e3-6535-415e-9f76-811bc7ce519b');\n",
              "        const dataTable =\n",
              "          await google.colab.kernel.invokeFunction('convertToInteractive',\n",
              "                                                    [key], {});\n",
              "        if (!dataTable) return;\n",
              "\n",
              "        const docLinkHtml = 'Like what you see? Visit the ' +\n",
              "          '<a target=\"_blank\" href=https://colab.research.google.com/notebooks/data_table.ipynb>data table notebook</a>'\n",
              "          + ' to learn more about interactive tables.';\n",
              "        element.innerHTML = '';\n",
              "        dataTable['output_type'] = 'display_data';\n",
              "        await google.colab.output.renderOutput(dataTable, element);\n",
              "        const docLink = document.createElement('div');\n",
              "        docLink.innerHTML = docLinkHtml;\n",
              "        element.appendChild(docLink);\n",
              "      }\n",
              "    </script>\n",
              "  </div>\n",
              "\n",
              "\n",
              "    <div id=\"df-d6280e7e-908d-45d7-87df-89ad7283508e\">\n",
              "      <button class=\"colab-df-quickchart\" onclick=\"quickchart('df-d6280e7e-908d-45d7-87df-89ad7283508e')\"\n",
              "                title=\"Suggest charts\"\n",
              "                style=\"display:none;\">\n",
              "\n",
              "<svg xmlns=\"http://www.w3.org/2000/svg\" height=\"24px\"viewBox=\"0 0 24 24\"\n",
              "     width=\"24px\">\n",
              "    <g>\n",
              "        <path d=\"M19 3H5c-1.1 0-2 .9-2 2v14c0 1.1.9 2 2 2h14c1.1 0 2-.9 2-2V5c0-1.1-.9-2-2-2zM9 17H7v-7h2v7zm4 0h-2V7h2v10zm4 0h-2v-4h2v4z\"/>\n",
              "    </g>\n",
              "</svg>\n",
              "      </button>\n",
              "\n",
              "<style>\n",
              "  .colab-df-quickchart {\n",
              "      --bg-color: #E8F0FE;\n",
              "      --fill-color: #1967D2;\n",
              "      --hover-bg-color: #E2EBFA;\n",
              "      --hover-fill-color: #174EA6;\n",
              "      --disabled-fill-color: #AAA;\n",
              "      --disabled-bg-color: #DDD;\n",
              "  }\n",
              "\n",
              "  [theme=dark] .colab-df-quickchart {\n",
              "      --bg-color: #3B4455;\n",
              "      --fill-color: #D2E3FC;\n",
              "      --hover-bg-color: #434B5C;\n",
              "      --hover-fill-color: #FFFFFF;\n",
              "      --disabled-bg-color: #3B4455;\n",
              "      --disabled-fill-color: #666;\n",
              "  }\n",
              "\n",
              "  .colab-df-quickchart {\n",
              "    background-color: var(--bg-color);\n",
              "    border: none;\n",
              "    border-radius: 50%;\n",
              "    cursor: pointer;\n",
              "    display: none;\n",
              "    fill: var(--fill-color);\n",
              "    height: 32px;\n",
              "    padding: 0;\n",
              "    width: 32px;\n",
              "  }\n",
              "\n",
              "  .colab-df-quickchart:hover {\n",
              "    background-color: var(--hover-bg-color);\n",
              "    box-shadow: 0 1px 2px rgba(60, 64, 67, 0.3), 0 1px 3px 1px rgba(60, 64, 67, 0.15);\n",
              "    fill: var(--button-hover-fill-color);\n",
              "  }\n",
              "\n",
              "  .colab-df-quickchart-complete:disabled,\n",
              "  .colab-df-quickchart-complete:disabled:hover {\n",
              "    background-color: var(--disabled-bg-color);\n",
              "    fill: var(--disabled-fill-color);\n",
              "    box-shadow: none;\n",
              "  }\n",
              "\n",
              "  .colab-df-spinner {\n",
              "    border: 2px solid var(--fill-color);\n",
              "    border-color: transparent;\n",
              "    border-bottom-color: var(--fill-color);\n",
              "    animation:\n",
              "      spin 1s steps(1) infinite;\n",
              "  }\n",
              "\n",
              "  @keyframes spin {\n",
              "    0% {\n",
              "      border-color: transparent;\n",
              "      border-bottom-color: var(--fill-color);\n",
              "      border-left-color: var(--fill-color);\n",
              "    }\n",
              "    20% {\n",
              "      border-color: transparent;\n",
              "      border-left-color: var(--fill-color);\n",
              "      border-top-color: var(--fill-color);\n",
              "    }\n",
              "    30% {\n",
              "      border-color: transparent;\n",
              "      border-left-color: var(--fill-color);\n",
              "      border-top-color: var(--fill-color);\n",
              "      border-right-color: var(--fill-color);\n",
              "    }\n",
              "    40% {\n",
              "      border-color: transparent;\n",
              "      border-right-color: var(--fill-color);\n",
              "      border-top-color: var(--fill-color);\n",
              "    }\n",
              "    60% {\n",
              "      border-color: transparent;\n",
              "      border-right-color: var(--fill-color);\n",
              "    }\n",
              "    80% {\n",
              "      border-color: transparent;\n",
              "      border-right-color: var(--fill-color);\n",
              "      border-bottom-color: var(--fill-color);\n",
              "    }\n",
              "    90% {\n",
              "      border-color: transparent;\n",
              "      border-bottom-color: var(--fill-color);\n",
              "    }\n",
              "  }\n",
              "</style>\n",
              "\n",
              "      <script>\n",
              "        async function quickchart(key) {\n",
              "          const quickchartButtonEl =\n",
              "            document.querySelector('#' + key + ' button');\n",
              "          quickchartButtonEl.disabled = true;  // To prevent multiple clicks.\n",
              "          quickchartButtonEl.classList.add('colab-df-spinner');\n",
              "          try {\n",
              "            const charts = await google.colab.kernel.invokeFunction(\n",
              "                'suggestCharts', [key], {});\n",
              "          } catch (error) {\n",
              "            console.error('Error during call to suggestCharts:', error);\n",
              "          }\n",
              "          quickchartButtonEl.classList.remove('colab-df-spinner');\n",
              "          quickchartButtonEl.classList.add('colab-df-quickchart-complete');\n",
              "        }\n",
              "        (() => {\n",
              "          let quickchartButtonEl =\n",
              "            document.querySelector('#df-d6280e7e-908d-45d7-87df-89ad7283508e button');\n",
              "          quickchartButtonEl.style.display =\n",
              "            google.colab.kernel.accessAllowed ? 'block' : 'none';\n",
              "        })();\n",
              "      </script>\n",
              "    </div>\n",
              "\n",
              "    </div>\n",
              "  </div>\n"
            ],
            "application/vnd.google.colaboratory.intrinsic+json": {
              "type": "dataframe",
              "variable_name": "df",
              "summary": "{\n  \"name\": \"df\",\n  \"rows\": 5455,\n  \"fields\": [\n    {\n      \"column\": \"person\",\n      \"properties\": {\n        \"dtype\": \"category\",\n        \"num_unique_values\": 2613,\n        \"samples\": [\n          \"Filzmoser, Peter (external)\",\n          \"Schoch, Aline\",\n          \"Caluori, F.\"\n        ],\n        \"semantic_type\": \"\",\n        \"description\": \"\"\n      }\n    },\n    {\n      \"column\": \"dc.title\",\n      \"properties\": {\n        \"dtype\": \"category\",\n        \"num_unique_values\": 2353,\n        \"samples\": [\n          \"Lesestrategien. Bedeutung, Formen und Vermittlung.\",\n          \"L\\u00fccken \\u00fcberbr\\u00fccken. IIZ im System sozialer Sicherung.\",\n          \"On screen alarm resolution with explosive detection systems for cabin baggage screening\"\n        ],\n        \"semantic_type\": \"\",\n        \"description\": \"\"\n      }\n    },\n    {\n      \"column\": \"dc.subtitle\",\n      \"properties\": {\n        \"dtype\": \"category\",\n        \"num_unique_values\": 161,\n        \"samples\": [\n          \"Organizational Behavior and Human Decision Processes\",\n          \"Der Fremdsprachige Unterricht - Englisch\",\n          \"KMU LIFE\"\n        ],\n        \"semantic_type\": \"\",\n        \"description\": \"\"\n      }\n    }\n  ]\n}"
            }
          },
          "metadata": {},
          "execution_count": 3
        }
      ],
      "source": [
        "import pandas as pd\n",
        "df = pd.read_csv('/content/WIMA/data/IRF_Data_small.csv', sep=\";\")\n",
        "df.head()"
      ]
    },
    {
      "cell_type": "markdown",
      "metadata": {
        "id": "c6LdVecjSqwP"
      },
      "source": [
        "### Parsing the documents\n",
        "First, we will load the csv document and parse it using Pandas."
      ]
    },
    {
      "cell_type": "code",
      "execution_count": 4,
      "metadata": {
        "colab": {
          "base_uri": "https://localhost:8080/"
        },
        "id": "aDGqxCpKRuRR",
        "outputId": "d9fe1bb5-d340-4c1a-a372-69e1987953dc"
      },
      "outputs": [
        {
          "output_type": "stream",
          "name": "stdout",
          "text": [
            "page_content='Author: Grunder, Hans-Ulrich, Title: Der Bildungsforschung die Daten, der Allgemeinen Pädagogik die skeptischen RückFragen? Bildungsforschung und Allgemeine Pädagogik' metadata={'source': 'IRF'}\n"
          ]
        }
      ],
      "source": [
        "from langchain_core.documents import Document\n",
        "docs = []\n",
        "for index, row in df.iterrows():\n",
        "    person = row['person']\n",
        "    title = row['dc.title']\n",
        "    document = Document(\n",
        "        page_content= \"Author: \" + str(person) + \", Title: \" + str(title),\n",
        "        metadata={\"source\": \"IRF\"}\n",
        "    )\n",
        "    docs.append(document)\n",
        "\n",
        "print(docs[0])"
      ]
    },
    {
      "cell_type": "code",
      "execution_count": 5,
      "metadata": {
        "colab": {
          "base_uri": "https://localhost:8080/"
        },
        "id": "R7srp0X7UNTm",
        "outputId": "2b8579f5-482e-45cc-9b40-85b7cd9b0f55"
      },
      "outputs": [
        {
          "output_type": "stream",
          "name": "stdout",
          "text": [
            "Author: Grunder, Hans-Ulrich, Title: Der Bildungsforschung die Daten, der Allgemeinen Pädagogik die skeptischen RückFragen? Bildungsforschung und Allgemeine Pädagogik\n"
          ]
        }
      ],
      "source": [
        "print(docs[0].page_content[0:250])"
      ]
    },
    {
      "cell_type": "markdown",
      "metadata": {
        "id": "VRhvBTARUIJZ"
      },
      "source": [
        "Once we have the text from the document, we have to split it into smaller chunks. We can use LangChain's available splitters, like CharacterTextSplitter in this case:"
      ]
    },
    {
      "cell_type": "code",
      "execution_count": 6,
      "metadata": {
        "colab": {
          "base_uri": "https://localhost:8080/"
        },
        "id": "QIv-DbOgUrrG",
        "outputId": "c635960d-3a95-46cf-b97b-97d90f48099c"
      },
      "outputs": [
        {
          "output_type": "stream",
          "name": "stdout",
          "text": [
            "page_content='Author: Grunder, Hans-Ulrich, Title: Der Bildungsforschung die Daten, der Allgemeinen Pädagogik die skeptischen RückFragen? Bildungsforschung und Allgemeine Pädagogik' metadata={'source': 'IRF'}\n"
          ]
        }
      ],
      "source": [
        "from langchain.text_splitter import CharacterTextSplitter\n",
        "splitter = CharacterTextSplitter(chunk_size=512, chunk_overlap=30)\n",
        "chunks = splitter.split_documents(docs)\n",
        "print(chunks[0])"
      ]
    },
    {
      "cell_type": "markdown",
      "metadata": {
        "id": "L2Q7BArwVT1J"
      },
      "source": [
        "We will be using BGE-small, an opensource embeddings model. We will download it from HuggingFace Hub and run it on all chunks to calculate their vector representations."
      ]
    },
    {
      "cell_type": "code",
      "execution_count": 7,
      "metadata": {
        "colab": {
          "base_uri": "https://localhost:8080/",
          "height": 553,
          "referenced_widgets": [
            "6036cceea9e3455fbe26527138362153",
            "2785688a77ec47609915412a4d4b6f3c",
            "1e223895825b4d82994afdb7cb863c29",
            "359ac623ea7046c6bfeb813d67c34bcf",
            "ea019152ba7e4a22a4f1a46c04439783",
            "574fee268a2b4c70a514ab825aa6b417",
            "829a12f3acf74ceda8fdc3709b0ce367",
            "d8e990a6863e4fb0ac543b73c0253fcd",
            "30e6dd8f63894728917f2af29f73a979",
            "419265a86f804bc98c5b5711b4cac975",
            "3b3f27dc5b084522a5ff573d855f4d8b",
            "55aaab76e7ae44f1a0b855b76cafa339",
            "b06ed8df35f443d192c70e8d491e999a",
            "e404d6b59cfc42a1a96cc26c5e1f03e8",
            "2e63c6bf880e468c993f10c462cf1d75",
            "6fcd9e4b21e14f86b56471a4f3893f1f",
            "202906f8cafa4f74861882566cd94f07",
            "e8d237baf4ed48c68a7ebecf630930e5",
            "c44efa2e2d8d4a96beb4f72a7586b476",
            "e1d2360cd7674acfb18474cdae680448",
            "91b0679e9c6945ae8763a3ab9fcee49b",
            "375e51eeed5c4c8298acd540ec7d8b26",
            "becd0d8e1f7f4735935f78e0ec415f2c",
            "705c61fb9d9c43ab949547ffb5e5e39d",
            "d3d8c10388f14d6b857a226343a4d07c",
            "e305a06bb9ba4e528aa116f836cfaa48",
            "9600cd0437da4a42847e047e115db5e8",
            "8a11daf42b6349f7b35a2a6b5657353c",
            "8cffbddc80a742f6a4462e23502828b9",
            "1f7eb465c83f4271b7b43dde140bd4dd",
            "e9eac1b27c144fa58a0f5ca1780decf2",
            "70c353b427c94206a4d0be2cd2e5c0b6",
            "0f195d9de3a24da68f42675108337bbf",
            "6d7dae3a17d0405f9059293763582e4a",
            "7698f9a60b324c69a1b08c82c1541afb",
            "2b46536d819440aca5e0766bee1ec53c",
            "53599110103d4a6585c3252bfa8db543",
            "b7286a6b759848aeb52eef7a7da44a52",
            "ead067f0ac7d4016a7eb2b1ce09b1f3e",
            "0cfe1d9620cc4945bd8f3ce8fa971ad1",
            "a0e16349c6e744ac8573340def9ee8be",
            "11a2723130cf491ea9c8950161f7d16e",
            "bf3478791f2d41d6b72c2a36da079d4f",
            "2a683d7f830146b8b244ce5d7fc03218",
            "414285c757034b43885ac4e52dc797a5",
            "9b7c2313e5cc4e2c95b72f4d72afaa10",
            "43c4d8588b2d4302aea033c2e426fb97",
            "85ffd04f7e7f493f95fa0a8e6508235a",
            "e372667361d848ceb5b702f95c7ec72e",
            "79bd75210ab54b1d9def30e54a08646f",
            "9399534ee38e45708c18be88e40e240b",
            "25271f06e27049c1a5d0c0d708076efe",
            "af12bf15731c4c43955497cf0574a417",
            "6e545dff0a7e48c5afebebc98a6d2f04",
            "da65c7e4179a4ec99740c08714316bd4",
            "9dfbec1604974b899119550163db23ec",
            "9bff6e801d294c97b09814983657f9b3",
            "184b4a5a2cf24ad7a6ed4caf1409a377",
            "402d256f784e438288ebe85bd46ec907",
            "34921acb7e0a429fab0c7c9af8ba6c32",
            "3878494f60244ff797060e46c495b0bb",
            "97bdf6726d084a6fb91fd3b3dd6f5a06",
            "ae4b9b09e0b341718dbf237fe8f52f0c",
            "cd449fc159aa469cb80c8b96c6a4fb62",
            "b2fa4387042a471b88639099d4ba972e",
            "ca2195a264674a3cb9d749a52ba74df2",
            "bf0c15adf4554136a78dc4f3b1c8cedf",
            "82245c9faa1d404b83b0fd72d46cf88b",
            "0c4e38417dad49f19859b96a05279d66",
            "7d410a87cc484c15b8c35eaa8b0808d2",
            "45128d78f0b142ff938fd926114f418c",
            "b6df3146b33b4d8cab657c7fd7c90aae",
            "683a9afd008b4b2383784e11a4674d8e",
            "ace970506c314c1ebe87a9cedec96c26",
            "c431ef7ea80d46418a54794fb6e08a66",
            "812e6662325443028147eade1f981646",
            "cf65eac6b88943b4a2c2905645103d7c",
            "d23cd08d88404664b63dfca41cfb136d",
            "ba6069c7448e4f32998b51c749c58582",
            "78abbacb671c4fa992d86a767052d761",
            "20ea4a3329904a2295b1cee80e39a630",
            "679214318a274156a69bd37c8e742f29",
            "c49fe8f9395349ed87bcd9406d271a81",
            "50fb0caa7d82405a910bc684cedc3a20",
            "30e32d300934482f8151f1c90106d5ec",
            "b5b5f7bb01384f7b983f2c72fbf45424",
            "eeb54321eea644f09818fa64214340da",
            "cd20a9a42ca04738aca46ea9861517f3",
            "2ed851b096dc4c58ab5594180fee0679",
            "1e506141b2e04daba5b875cdf9ca5a27",
            "1d0a9e1147c34ebea268e045999c871f",
            "88f925749cf848c9832dd51edb607935",
            "25e4f5320e3a41d9b0975ef11da00ddc",
            "e9fe6aaad7b041008fad275f2de7d6e5",
            "cb75ef10c5a14513b2dbee6a13a387ef",
            "faae38a856e74f98a376c9485f9d4b07",
            "23c80b1fc1b04852aec1a88328df8e0f",
            "3ef5233fbd9b453bb95a353b6391cea9",
            "f2f73e0ce5034b5f9df4acb3107d953d",
            "ed9b8e4776fa4a91b2a2ecbfc89eae8f",
            "1e209a5f79d84b0b821110e915ed9172",
            "172a7e7b2ca74f43bfc5185b2467cb11",
            "a1a6c21451784a24933b61ec8354a907",
            "584e494fb200439ebff2f48425344765",
            "404342d4371f4047b7ebdae5046af3cf",
            "d83f0b45046a401fa610a7e2519a2788",
            "19a5dae08b0246f0bb58e16ef62a98f9",
            "bf8cf2cfebb246bc9256be34e4e096c0",
            "e9484dc0e014483399fbbd10a59c7fe0",
            "5140ca95167943a0be76dc5e4752ef42",
            "346f7a2b27a843238e5119120bd48ac7",
            "f6c5d2e196874a839dfd26804b88c34a",
            "7317b66c77ec49a1834a361d22d26d51",
            "2924be4c67bb42998ec4fbcfa891444c",
            "2dbc1169be694cb3b2818b38cd8b59e6",
            "a1e2ad9505b945fba4c58730f3755dad",
            "51f21843c79b416c92b43077a722234b",
            "a99a99047ab14298bd301ec61962666b",
            "af16fba3e9f74c23be3aaf9badf3cf66",
            "37173fe801f34dc188adf6030b457325",
            "218ed8e3dab1488992ca716a356dcf76"
          ]
        },
        "id": "cTOW6z0PVYij",
        "outputId": "fe06bb5b-efa2-47bd-868e-9d780a78becc"
      },
      "outputs": [
        {
          "output_type": "stream",
          "name": "stderr",
          "text": [
            "/tmp/ipython-input-1782701561.py:6: LangChainDeprecationWarning: The class `HuggingFaceBgeEmbeddings` was deprecated in LangChain 0.2.2 and will be removed in 1.0. An updated version of the class exists in the :class:`~langchain-huggingface package and should be used instead. To use it run `pip install -U :class:`~langchain-huggingface` and import as `from :class:`~langchain_huggingface import HuggingFaceEmbeddings``.\n",
            "  bge_embeddings = HuggingFaceBgeEmbeddings(\n",
            "/usr/local/lib/python3.12/dist-packages/huggingface_hub/utils/_auth.py:94: UserWarning: \n",
            "The secret `HF_TOKEN` does not exist in your Colab secrets.\n",
            "To authenticate with the Hugging Face Hub, create a token in your settings tab (https://huggingface.co/settings/tokens), set it as secret in your Google Colab and restart your session.\n",
            "You will be able to reuse this secret in all of your notebooks.\n",
            "Please note that authentication is recommended but still optional to access public models or datasets.\n",
            "  warnings.warn(\n"
          ]
        },
        {
          "output_type": "display_data",
          "data": {
            "text/plain": [
              "modules.json:   0%|          | 0.00/349 [00:00<?, ?B/s]"
            ],
            "application/vnd.jupyter.widget-view+json": {
              "version_major": 2,
              "version_minor": 0,
              "model_id": "6036cceea9e3455fbe26527138362153"
            }
          },
          "metadata": {}
        },
        {
          "output_type": "display_data",
          "data": {
            "text/plain": [
              "config_sentence_transformers.json:   0%|          | 0.00/124 [00:00<?, ?B/s]"
            ],
            "application/vnd.jupyter.widget-view+json": {
              "version_major": 2,
              "version_minor": 0,
              "model_id": "55aaab76e7ae44f1a0b855b76cafa339"
            }
          },
          "metadata": {}
        },
        {
          "output_type": "display_data",
          "data": {
            "text/plain": [
              "README.md: 0.00B [00:00, ?B/s]"
            ],
            "application/vnd.jupyter.widget-view+json": {
              "version_major": 2,
              "version_minor": 0,
              "model_id": "becd0d8e1f7f4735935f78e0ec415f2c"
            }
          },
          "metadata": {}
        },
        {
          "output_type": "display_data",
          "data": {
            "text/plain": [
              "sentence_bert_config.json:   0%|          | 0.00/52.0 [00:00<?, ?B/s]"
            ],
            "application/vnd.jupyter.widget-view+json": {
              "version_major": 2,
              "version_minor": 0,
              "model_id": "6d7dae3a17d0405f9059293763582e4a"
            }
          },
          "metadata": {}
        },
        {
          "output_type": "display_data",
          "data": {
            "text/plain": [
              "config.json:   0%|          | 0.00/684 [00:00<?, ?B/s]"
            ],
            "application/vnd.jupyter.widget-view+json": {
              "version_major": 2,
              "version_minor": 0,
              "model_id": "414285c757034b43885ac4e52dc797a5"
            }
          },
          "metadata": {}
        },
        {
          "output_type": "display_data",
          "data": {
            "text/plain": [
              "model.safetensors:   0%|          | 0.00/133M [00:00<?, ?B/s]"
            ],
            "application/vnd.jupyter.widget-view+json": {
              "version_major": 2,
              "version_minor": 0,
              "model_id": "9dfbec1604974b899119550163db23ec"
            }
          },
          "metadata": {}
        },
        {
          "output_type": "display_data",
          "data": {
            "text/plain": [
              "tokenizer_config.json:   0%|          | 0.00/366 [00:00<?, ?B/s]"
            ],
            "application/vnd.jupyter.widget-view+json": {
              "version_major": 2,
              "version_minor": 0,
              "model_id": "bf0c15adf4554136a78dc4f3b1c8cedf"
            }
          },
          "metadata": {}
        },
        {
          "output_type": "display_data",
          "data": {
            "text/plain": [
              "vocab.txt: 0.00B [00:00, ?B/s]"
            ],
            "application/vnd.jupyter.widget-view+json": {
              "version_major": 2,
              "version_minor": 0,
              "model_id": "d23cd08d88404664b63dfca41cfb136d"
            }
          },
          "metadata": {}
        },
        {
          "output_type": "display_data",
          "data": {
            "text/plain": [
              "tokenizer.json: 0.00B [00:00, ?B/s]"
            ],
            "application/vnd.jupyter.widget-view+json": {
              "version_major": 2,
              "version_minor": 0,
              "model_id": "2ed851b096dc4c58ab5594180fee0679"
            }
          },
          "metadata": {}
        },
        {
          "output_type": "display_data",
          "data": {
            "text/plain": [
              "special_tokens_map.json:   0%|          | 0.00/125 [00:00<?, ?B/s]"
            ],
            "application/vnd.jupyter.widget-view+json": {
              "version_major": 2,
              "version_minor": 0,
              "model_id": "ed9b8e4776fa4a91b2a2ecbfc89eae8f"
            }
          },
          "metadata": {}
        },
        {
          "output_type": "display_data",
          "data": {
            "text/plain": [
              "config.json:   0%|          | 0.00/190 [00:00<?, ?B/s]"
            ],
            "application/vnd.jupyter.widget-view+json": {
              "version_major": 2,
              "version_minor": 0,
              "model_id": "346f7a2b27a843238e5119120bd48ac7"
            }
          },
          "metadata": {}
        },
        {
          "output_type": "stream",
          "name": "stdout",
          "text": [
            "[-0.0302888173609972, 0.028282642364501953, -0.02332819439470768, -0.0003163748770020902, 0.023050880059599876, -0.007087355013936758, -0.002219259738922119, 0.038638100028038025, -0.02305730991065502, -0.0008127346518449485, 0.0270692165941, -0.04541735351085663, -0.00552099896594882, 0.012048673816025257, 0.021680952981114388, 0.009791522286832333, -0.0031466290820389986, 0.014194335788488388, -0.008890214376151562, 0.027788061648607254, 0.05815925821661949, -0.03392795845866203, 0.0010215151123702526, -0.03422490134835243, 0.009577189572155476, 0.033019132912158966, 0.0018786747241392732, -0.01642192341387272, -0.012252326123416424, -0.19010557234287262, -0.018888987600803375, -0.032895732671022415, 0.04011224955320358, -0.022394562140107155, 0.0011473004706203938, -0.024210166186094284, 0.033582594245672226, 0.01834167167544365, -0.022503500804305077, 0.027211390435695648, -0.005444013979285955, 0.02085844613611698, 0.027021845802664757, -0.016583075746893883, -0.0024334972258657217, 0.004713625181466341, -0.02055416628718376, 0.00202409946359694, -0.026218734681606293, -0.010559816844761372, -0.0012815316440537572, 0.006178861949592829, 0.014234522357583046, 0.0044729881919920444, -0.004677260760217905, 0.006752690766006708, 0.025549311190843582, 0.045008011162281036, 0.011529305018484592, 0.008846561424434185, 0.0024477713741362095, 0.008204983547329903, -0.17527645826339722, 0.05615117400884628, 0.03469056636095047, -0.0018648614641278982, -0.040788378566503525, -0.03395230323076248, 0.024708125740289688, 0.029880976304411888, -0.0067162299528717995, 0.007372020743787289, 0.006434357259422541, 0.007306484505534172, 0.032520413398742676, -0.029765991494059563, 0.021761978045105934, 0.0011087226448580623, 0.004694139119237661, -0.0005669230013154447, -0.010127047076821327, 0.04410978779196739, 0.02303113043308258, -0.007442115340381861, -0.037053123116493225, -0.03160151466727257, 0.023119647055864334, -0.030056772753596306, -0.015306550078094006, 0.003241738071665168, -0.00812261737883091, -0.010159733705222607, -0.013009767979383469, -0.004612602759152651, -0.04711221531033516, 0.026359783485531807, 0.01705426163971424, 0.03846179321408272, -0.007199733052402735, 0.6412925124168396, -0.05823427811264992, 0.04156392812728882, 0.0009227902628481388, -0.018566088750958443, -0.00331744528375566, -0.009032569825649261, -0.020037630572915077, -0.05977286398410797, -0.0016016929876059294, 0.02990017458796501, -0.030615437775850296, -0.011862744577229023, 0.061566974967718124, -0.0385478176176548, 0.03958599641919136, 0.004211220424622297, 0.06252986937761307, 0.03278517350554466, -0.015647532418370247, 0.013589293695986271, -0.02311621978878975, 0.03171473741531372, 0.047251708805561066, -0.009342901408672333, 0.0025874595157802105, -0.0681755393743515, -0.014743092469871044, 0.04847250133752823, 0.013074412941932678, 0.009601674973964691, 0.009621335193514824, -0.008665572851896286, -0.02798270992934704, -0.03419922664761543, 0.025888698175549507, 0.00073146668728441, -0.0012978041777387261, -0.0005601219017989933, 0.03882860764861107, -0.016265325248241425, -0.03635980561375618, -0.11834337562322617, -0.010119314305484295, -0.04626627266407013, -0.06527715921401978, 0.05853436514735222, -0.010889974422752857, 0.022823652252554893, 0.015023764222860336, 0.007391851395368576, -0.020126258954405785, 0.01887553557753563, -0.0130075141787529, -0.01791354827582836, -0.003060451475903392, -0.004283979535102844, 0.028369901701807976, 0.02457725629210472, -0.051807742565870285, -0.0003801994607783854, -0.014737889170646667, -0.0021136088762432337, -0.008150867186486721, 0.10291144996881485, 0.027575146406888962, -0.0568767674267292, 0.020381135866045952, 0.0012924695620313287, 0.041647836565971375, -0.047628168016672134, 0.013096952810883522, 0.028034072369337082, -0.016967114061117172, 0.0129716657102108, 0.06544384360313416, 0.01585041545331478, 0.01750815287232399, -0.0018023608718067408, -0.016139335930347443, 0.017875973135232925, 0.008053271099925041, -0.0010862485505640507, -0.032351054251194, 0.05592719838023186, 0.01439526304602623, -0.04696589335799217, -0.024414710700511932, -0.014422347769141197, 0.0014064707793295383, 0.061535321176052094, -0.05536801740527153, 0.0076706125400960445, -0.02769164927303791, 0.021884802728891373, 0.007598374970257282, -0.04336369037628174, -0.08379783481359482, -0.00976814329624176, -0.024645382538437843, -0.01679309830069542, 0.0009390409686602652, -0.011883632279932499, -0.028557786718010902, -0.017318040132522583, 0.005592327564954758, 0.014951628632843494, 0.04418396204710007, -0.016685612499713898, 0.05920366197824478, 0.002989588538184762, -0.009988862089812756, 0.0076886448077857494, 0.019253689795732498, -0.02931014820933342, 0.0037295017391443253, -0.006677492056041956, 0.018112244084477425, -0.011658933013677597, 0.0004002839850727469, 0.025072172284126282, -0.0013714814558625221, -0.007803817745298147, -0.03945780545473099, -0.2517506182193756, -0.013133060187101364, -0.03246282786130905, -0.017115531489253044, 0.04075591638684273, -0.037918638437986374, 0.04634091630578041, -0.04023866727948189, 0.003922499716281891, 0.04524140805006027, 0.040889278054237366, 0.007471116259694099, -0.041834767907857895, 0.02703854814171791, -0.0023364932276308537, 0.025194836780428886, 0.0024148793891072273, -0.02768823504447937, -0.023519957438111305, 0.0026282628532499075, -0.04498749598860741, 0.03658927232027054, -0.016258729621767998, -0.03577883541584015, 0.0031158234924077988, -0.030216041952371597, 0.15332816541194916, 0.026328343898057938, -0.00880883727222681, -0.016789639368653297, -0.003992449026554823, -0.015640703961253166, -0.006239767652004957, -0.08425942063331604, 0.017904644832015038, -0.0021253798622637987, -0.004451510030776262, -0.03092990070581436, 0.0017222552560269833, -0.01222685445100069, -0.008544818498194218, 0.013563370332121849, 0.01468482706695795, -0.0006290510063990951, -0.014956098981201649, -0.003453698242083192, 0.02592998743057251, 0.009203442372381687, 0.007147214375436306, 0.013136680237948895, 0.021708786487579346, -0.01733616180717945, 0.04853903502225876, 0.023235147818922997, 0.0033259026240557432, -0.03353797644376755, -0.05148134008049965, -0.004843348171561956, -0.030399208888411522, 0.0332348458468914, -0.0028472745325416327, -0.009493893012404442, -0.006545912474393845, -0.03958205133676529, 0.023316996172070503, 0.02080521173775196, -0.030544696375727654, -0.03349252790212631, 0.016961200162768364, 0.014984519220888615, 0.01224442757666111, 0.0987272709608078, -0.005818876903504133, -0.014858867973089218, 0.017111659049987793, 0.024022996425628662, 0.014732780866324902, -0.023910649120807648, -0.010596578940749168, -0.01817990653216839, 0.024170279502868652, -0.026478970423340797, 0.04837093874812126, 0.03322526440024376, -0.017709719017148018, -0.022086644545197487, -0.009545162320137024, 0.00040502354386262596, 0.025302300229668617, -0.04232001304626465, -0.0008653003023937345, -0.0011954614892601967, -0.05125124007463455, -0.00930517166852951, 0.027174415066838264, 0.005724453367292881, -0.32481566071510315, 0.012640736065804958, 0.019372982904314995, 0.020845890045166016, -0.007809669245034456, 0.025215070694684982, -0.0097664138302207, -0.02120174653828144, -0.036768700927495956, -0.012039324268698692, -0.022679796442389488, 0.03743235766887665, 0.0014352962607517838, 0.00454569049179554, 0.006467844825237989, 0.021681994199752808, 0.023902829736471176, -0.044230055063962936, 0.0020890969317406416, 0.008897710591554642, 0.021405257284641266, 0.05459215119481087, 0.1852232813835144, -0.00405224459245801, 0.021885327994823456, 0.03342173248529434, 0.023255256935954094, 0.00908478070050478, -0.0027760418597608805, -0.018213478848338127, -0.009547889232635498, -0.031173497438430786, 0.038236118853092194, -0.008947378024458885, 0.007592045236378908, 0.01809985563158989, -0.013955546543002129, 0.03570917248725891, 0.025713764131069183, -0.025405127555131912, -0.020843086764216423, 0.010632048361003399, 0.009467821568250656, 0.013742082752287388, 0.04775957763195038, -0.021203747019171715, -0.04550473764538765, -0.04431659355759621, 0.020786114037036896, -0.003836517222225666, -0.01788484863936901, -0.010425987653434277, -0.02798617258667946, 0.023488963022828102, -0.0013251774944365025, 0.0371844507753849, 0.025913706049323082, -0.02707756869494915, -0.0426008366048336, -0.015227089636027813, 0.011284200474619865, 0.0019374043913558125, 0.0031083605717867613, 0.004030878189951181, 0.01157350279390812]\n"
          ]
        }
      ],
      "source": [
        "from langchain_community.embeddings import HuggingFaceBgeEmbeddings\n",
        "\n",
        "model_name = \"BAAI/bge-small-en\"\n",
        "model_kwargs = {\"device\": \"cpu\"}\n",
        "encode_kwargs = {\"normalize_embeddings\": True}\n",
        "bge_embeddings = HuggingFaceBgeEmbeddings(\n",
        "    model_name=model_name, model_kwargs=model_kwargs, encode_kwargs=encode_kwargs\n",
        ")\n",
        "\n",
        "chunk_texts = list(map(lambda d: d.page_content, chunks))\n",
        "embeddings = bge_embeddings.embed_documents(chunk_texts)\n",
        "print(embeddings[0])"
      ]
    },
    {
      "cell_type": "markdown",
      "metadata": {
        "id": "CYk2fjOqXTMf"
      },
      "source": [
        "Once we have the vector representations for all chunks, we can create an in-memory vector database and store all vectors in it. For this example, we will be using a FAISS database."
      ]
    },
    {
      "cell_type": "code",
      "execution_count": 8,
      "metadata": {
        "id": "c1sXZZ3vXTiW"
      },
      "outputs": [],
      "source": [
        "from langchain_community.vectorstores import FAISS\n",
        "\n",
        "text_embedding_pairs = zip(chunk_texts, embeddings)\n",
        "db = FAISS.from_embeddings(text_embedding_pairs, bge_embeddings)"
      ]
    },
    {
      "cell_type": "markdown",
      "metadata": {
        "id": "fgsgun3CYNyI"
      },
      "source": [
        "The database is now set up. Now, we will be taking queries from the user on this information. In the case of expert search, we expect the user to ask for an area of expertise. Then, we retrieve the top k most similar chunks to that query."
      ]
    },
    {
      "cell_type": "code",
      "execution_count": 14,
      "metadata": {
        "colab": {
          "base_uri": "https://localhost:8080/"
        },
        "collapsed": true,
        "id": "bvp4RbF_YNH-",
        "outputId": "40a79a3b-0d30-4468-ca2f-0b5a951fd80c"
      },
      "outputs": [
        {
          "output_type": "stream",
          "name": "stdout",
          "text": [
            "Author: Karagiannis, Dimitris (external), Title: Knowledge management concepts and tools: The PROMOTE project.\n",
            "Author: Woitsch, Robert (external), Title: Knowledge management concepts and tools: The PROMOTE project.\n",
            "Author: Telesko, Rainer, Title: Knowledge management concepts and tools: The PROMOTE project.\n",
            "Author: Liebig, Brigitte, Title: 'Tacit knowledge' und Management: Ein wissenssoziologischer Beitrag zur qualitativen Organisationskulturforschung\n",
            "Author: Hinkelmann, Knut, Title: WM2009: 5th Conference on Professional Knowledge Management.\n",
            "Author: Nentwig-Gesemann, Iris, Title: 'Tacit knowledge' und Management: Ein wissenssoziologischer Beitrag zur qualitativen Organisationskulturforschung\n",
            "Author: Bohnsack, Ralf, Title: 'Tacit knowledge' und Management: Ein wissenssoziologischer Beitrag zur qualitativen Organisationskulturforschung\n",
            "Author: Hinkelmann, Knut, Title: Towards an Integrated Approach to Assess the Potential of an Enterprise to Mature Knowledge, 5th Conference Professional Knowledge Management - Experiences and Visions.\n",
            "Author: Hinkelmann, Knut, Title: Towards an Integrated Approach to Assess the Potential of an Enterprise to Mature Knowledge, 5th Conference Professional Knowledge Management - Experiences and Visions.\n",
            "Author: Nohl, Arnd-Michael, Title: 'Tacit knowledge' und Management: Ein wissenssoziologischer Beitrag zur qualitativen Organisationskulturforschung\n",
            "Author: Brun, Roman (external), Title: Towards an Integrated Approach to Assess the Potential of an Enterprise to Mature Knowledge, 5th Conference Professional Knowledge Management - Experiences and Visions.\n",
            "Author: Hinkelmann, Knut, Title: Facilitating Flexible Process Execution via Knowledge Management.\n",
            "Author: Hinkelmann, Knut, Title: Facilitating Flexible Process Execution via Knowledge Management.\n",
            "Author: Telesko, Rainer, Title: Towards an Integrated Approach to Assess the Potential of an Enterprise to Mature Knowledge, 5th Conference Professional Knowledge Management - Experiences and Visions.\n",
            "Author: Thönssen, Barbara, Title: Towards an Integrated Approach to Assess the Potential of an Enterprise to Mature Knowledge, 5th Conference Professional Knowledge Management - Experiences and Visions.\n",
            "Author: Hinkelmann, Knut, Title: Knowledge Support for Agile Processes.\n",
            "Author: Hinkelmann, Knut, Title: Effektive GeschÃ¤ftsprozesse durch effizientes Management von Informationen.\n",
            "Author: Hochuli Freund, Ursula, Title: Kooperative Prozessgestaltung im Eingliederungsmanagement : eine praxisfeldspezifische Ausdifferenzierung des Konzepts Kooperative Prozessgestaltung\n",
            "Author: Hinkelmann, Knut, Title: Management agiler Prozesse: Flexible Prozessbearbeitung durch Business Rules.\n",
            "Author: Hinkelmann, Knut, Title: Conceptual Foundations for a Service-Oriented Knowledge & Learning Architecture: Supporting Content, Process, and Ontology Maturing.\n",
            "Author: Hinkelmann, Knut, Title: Conceptual Foundations for a Service-Oriented Knowledge & Learning Architecture: Supporting Content, Process, and Ontology Maturing.\n",
            "Author: Hinkelmann, Knut, Title: Conceptual Foundations for a Service-Oriented Knowledge & Learning Architecture: Supporting Content, Process and Ontology Maturing.\n",
            "Author: Daub, Claus-Heinrich, Title: The growing importance of Stakeholder dialogues in gaining and transferring knowledge\n",
            "Author: Hinkelmann, Knut, Title: Towards an Integrated Approach to Assess the Potential of an Enterprise to Mature Knowledge.\n",
            "Author: Wolff, Daniela (external), Title: KISS - Knowledge-Intensive Service Support: An Approach for Agile Process Management.\n",
            "Author: Hinkelmann, Knut, Title: KISS - Knowledge-Intensive Service Support: An Approach for Agile Process Management.\n",
            "Author: Hinkelmann, Knut, Title: KISS - Knowledge-Intensive Service Support: An Approach for Agile Process Management.\n",
            "Author: Witschel, Hans Friedrich, Title: Optimisation of Knowledge Work in the Public Sector by Means of Digital Metaphors\n",
            "Author: Hinkelmann, Knut, Title: Dokumentenmanagement & Archivierung - ProzessunterstÃ¼tzung fÃ¼r Unternehmen und Ã¶ffentliche Verwaltungen.\n",
            "Author: Hinkelmann, Knut, Title: Dokumentenmanagement & Archivierung  ProzessunterstÃ¼tzung fÃ¼r Unternehmen und Ã¶ffentliche Verwaltungen.\n",
            "Author: Hauswirth, Petra, Title: Diversity-Management in Pflegeteams – Entwicklung der Zusammenarbeit in interprofessionellen Teams1\n",
            "Author: Tschaut, Anna (external), Title: Fehlermanagement in virtuellen Teams: förderliche und hinderliche Faktoren sowie Auswirkungen auf Leistung. Error Management in Virtual Teams: Barriers and Enablers for Information Sharing and Effects on Performance.\n",
            "Author: Witschel, Hans Friedrich (external), Title: What is Organizational Knowledge Maturing and how can it be assessed?.\n",
            "Author: Witschel, Hans Friedrich (external), Title: What is Organizational Knowledge Maturing and how can it be assessed?.\n",
            "Author: Karlsson, Ylva Elisabet, Title: The growing importance of Stakeholder dialogues in gaining and transferring knowledge\n",
            "Author: Binswanger, Mathias, Title: Management by Wording\n",
            "Author: Hinkelmann, Knut, Title: Mit Prozessanalyse zum effektiven Dokumentenmanagement.\n",
            "Author: Stiller, Sebastiaan, Title: The growing importance of Stakeholder dialogues in gaining and transferring knowledge\n",
            "Author: Hinkelmann, Knut, Title: DMS - Dokumentenmanagement\n",
            "Author: Peter, Marc K., Title: Change Management: Führungsrolle, Unternehmenskultur und -nachfolge.\n",
            "Author: Schubert, Petra (external), Title: Digitale Medien für das Management der 1:1-Kundenbeziehung.\n",
            "Author: Hinkelmann, Knut, Title: Workplace Learning - Providing Recommendations of Experts and Learning Resources in a Context-sensitive and Personalized Manner\n"
          ]
        }
      ],
      "source": [
        "topk = 42\n",
        "query = \"knowledge management\"\n",
        "\n",
        "contexts = db.similarity_search(query, k=topk)\n",
        "\n",
        "for i in range(topk):\n",
        "  print(contexts[i].page_content)\n"
      ]
    },
    {
      "cell_type": "markdown",
      "metadata": {
        "id": "XI5rF1aqZJSU"
      },
      "source": [
        "After retrieving the relevant context, we build a prompt using this information and the user's original query. We will use a Llama model via the Huggingface API:\n",
        "\n",
        "\n",
        "\n",
        "> This example uses Huggingface API to call the model. In order for it to work, remember to set the Secret Variable \"HUGGINGFACE_API_KEY\" to your own Huggingface API Key, or change the model to any of your choice.\n",
        "\n"
      ]
    },
    {
      "cell_type": "code",
      "source": [
        "from groq import Groq\n",
        "def llm(groq_client, prompt):\n",
        "  chat_completion = groq_client.chat.completions.create(\n",
        "    messages=[\n",
        "        {\n",
        "            \"role\": \"user\",\n",
        "            \"content\": prompt,\n",
        "        }\n",
        "    ],\n",
        "    model=\"llama-3.3-70b-versatile\",\n",
        "  )\n",
        "\n",
        "  return chat_completion.choices[0].message.content"
      ],
      "metadata": {
        "id": "sNoYkKxNbrQS"
      },
      "execution_count": 15,
      "outputs": []
    },
    {
      "cell_type": "code",
      "source": [
        "from google.colab import userdata\n",
        "groq_client = Groq(\n",
        "    api_key=userdata.get('GROQ_API_KEY')\n",
        ")"
      ],
      "metadata": {
        "id": "NPimusDPb6OH"
      },
      "execution_count": 16,
      "outputs": []
    },
    {
      "cell_type": "code",
      "source": [
        "context = '\\n\\n'.join(list(map(lambda c: c.page_content, contexts)))\n",
        "prompt = f\"\"\"You are an assistant that helps users to find people with a certain expertise, based on their publications.\n",
        "You need to analyse the publications and check who has most relevant publications in the given field! The following context contains several relevant publications;\n",
        "for each publication, the author is provided first: {context}. Please only return internal experts!\n",
        "The field that we are interested in is {query}\"\"\"\n",
        "response = llm(groq_client, prompt)\n",
        "print(response)"
      ],
      "metadata": {
        "colab": {
          "base_uri": "https://localhost:8080/"
        },
        "id": "a44INQPHcEAf",
        "outputId": "695e4d62-3fa2-4935-f272-e02619a79f18"
      },
      "execution_count": 19,
      "outputs": [
        {
          "output_type": "stream",
          "name": "stdout",
          "text": [
            "After analyzing the provided publications, I have identified the top internal experts in the field of Knowledge Management. Here are the results:\n",
            "\n",
            "1. **Hinkelmann, Knut** (14 publications): Knut Hinkelmann is the most prominent internal expert in Knowledge Management, with 14 relevant publications. His research focuses on various aspects of Knowledge Management, including process execution, agile processes, service-oriented knowledge and learning architectures, and document management.\n",
            "\n",
            "Other notable internal experts in Knowledge Management are:\n",
            "\n",
            "2. **Telesko, Rainer** (2 publications): Rainer Telesko has co-authored publications on Knowledge Management concepts and tools, as well as assessing the potential of an enterprise to mature knowledge.\n",
            "3. **Liebig, Brigitte** (1 publication): Brigitte Liebig has co-authored a publication on \"Tacit knowledge\" and management, which is a relevant topic in Knowledge Management.\n",
            "4. **Nentwig-Gesemann, Iris** (1 publication): Iris Nentwig-Gesemann has co-authored a publication on \"Tacit knowledge\" and management, similar to Brigitte Liebig.\n",
            "5. **Nohl, Arnd-Michael** (1 publication): Arnd-Michael Nohl has co-authored a publication on \"Tacit knowledge\" and management.\n",
            "6. **Hauswirth, Petra** (1 publication): Petra Hauswirth has authored a publication on diversity management, which may be tangentially related to Knowledge Management.\n",
            "7. **Peter, Marc K.** (1 publication): Marc K. Peter has authored a publication on change management, which can be related to Knowledge Management in certain contexts.\n",
            "\n",
            "Note that the number of publications is not the only indicator of expertise, and other factors like the quality and impact of the publications should also be considered. However, based on the provided data, Knut Hinkelmann is the most prominent internal expert in Knowledge Management.\n"
          ]
        }
      ]
    }
  ]
}
